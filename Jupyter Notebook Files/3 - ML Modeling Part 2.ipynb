{
 "cells": [
  {
   "cell_type": "markdown",
   "id": "51a88804",
   "metadata": {},
   "source": [
    "# <font style=\"color:#008fff;\">Machine Learning Modeling Part 2</font>\n",
    "<hr>"
   ]
  },
  {
   "cell_type": "code",
   "execution_count": 1,
   "id": "f6f56828",
   "metadata": {},
   "outputs": [],
   "source": [
    "import pandas as pd\n",
    "import numpy as np\n",
    "import time\n",
    "import os\n",
    "import sklearn\n",
    "import warnings\n",
    "import sys\n",
    "import random\n",
    "import pickle\n",
    "import collections \n",
    "\n",
    "# Importing feature selection\n",
    "from sklearn.feature_selection import SelectKBest\n",
    "from sklearn.feature_selection import chi2, f_classif, mutual_info_classif\n",
    "\n",
    "# ML Models\n",
    "from sklearn.neighbors import KNeighborsClassifier\n",
    "from sklearn.naive_bayes import GaussianNB\n",
    "from sklearn.tree import DecisionTreeClassifier, export_graphviz\n",
    "from sklearn.ensemble import RandomForestClassifier\n",
    "\n",
    "# Evaluation Metrics/Visualizations\n",
    "from sklearn.metrics import confusion_matrix, classification_report\n",
    "from sklearn.metrics import RocCurveDisplay, roc_curve, roc_auc_score, RocCurveDisplay\n",
    "from sklearn.metrics import accuracy_score, precision_score, recall_score, f1_score\n",
    "from sklearn.metrics import make_scorer\n",
    "from sklearn.model_selection import GridSearchCV\n",
    "\n",
    "import seaborn as sns\n",
    "import matplotlib.pyplot as plt\n",
    "\n",
    "#Disabling Warnings\n",
    "warnings.filterwarnings('ignore')\n",
    "\n",
    "# to make this notebook's output stable across runs\n",
    "random.seed(42)"
   ]
  },
  {
   "cell_type": "markdown",
   "id": "b87012b0",
   "metadata": {},
   "source": [
    "## <font style=\"color:#008fff;\">Helper Functions</font>"
   ]
  },
  {
   "cell_type": "code",
   "execution_count": 2,
   "id": "e289e80e",
   "metadata": {},
   "outputs": [],
   "source": [
    "def loadDataset(file_name, idx_col=False):\n",
    "    start_time= time.time()\n",
    "    if idx_col:\n",
    "        df = pd.read_csv(file_name, index_col=[0])\n",
    "    else:\n",
    "        df = pd.read_csv(file_name)\n",
    "    print(\"***Elapsed time to read csv files --- %s seconds ---***\" % (time.time() - start_time))\n",
    "    return df"
   ]
  },
  {
   "cell_type": "code",
   "execution_count": 3,
   "id": "83bb4571",
   "metadata": {},
   "outputs": [],
   "source": [
    "from profanity_check import predict_prob, predict\n",
    "from urllib.parse import urlparse\n",
    "from tld import get_tld\n",
    "\n",
    "# Getting rid of outliers using clamp transformation\n",
    "def find_outliers_IQR(df):\n",
    "    q1=df.quantile(0.25)\n",
    "    q3=df.quantile(0.75)\n",
    "    IQR=q3-q1\n",
    "    \n",
    "    for index, val in df.iteritems():\n",
    "        if val < (q1 - 1.5 * IQR): # Small outliers below lower quartile\n",
    "            df[index] = (q1 - 1.5 * IQR)\n",
    "        elif val > (q3 + 1.5 * IQR): # Large outliers above upper quartile\n",
    "            df[index] = (q3 + 1.5 * IQR)\n",
    "\n",
    "    return df\n",
    "\n",
    "# If tld == gov, then is_gov_tld = 1, else gov_tld = 0\n",
    "def make_gov_column(df):\n",
    "    gov_col = []\n",
    "    for index, val in df.iteritems():\n",
    "        if val == 'gov':\n",
    "            gov_col.append(1)\n",
    "        else:\n",
    "            gov_col.append(0)\n",
    "    return np.array(gov_col)\n",
    "\n",
    "\n",
    "def clean_url(url):\n",
    "    url_text=\"\"\n",
    "    try:\n",
    "        domain = get_tld(url, as_object=True)\n",
    "        domain = get_tld(url, as_object=True)\n",
    "        url_parsed = urlparse(url)\n",
    "        url_text= url_parsed.netloc.replace(domain.tld,\" \").replace('www',' ') +\" \"+ url_parsed.path+\" \"+url_parsed.params+\" \"+url_parsed.query+\" \"+url_parsed.fragment\n",
    "        url_text = url_text.translate(str.maketrans({'?':' ','\\\\':' ','.':' ',';':' ','/':' ','\\'':' '}))\n",
    "        url_text.strip(' ')\n",
    "        url_text.lower()\n",
    "    except:\n",
    "        url_text = url_text.translate(str.maketrans({'?':' ','\\\\':' ','.':' ',';':' ','/':' ','\\'':' '}))\n",
    "        url_text.strip(' ')\n",
    "    return url_text\n",
    "\n",
    "def predict_profanity(url_cleaned):\n",
    "    arr=predict_prob(url_cleaned.astype(str).to_numpy())\n",
    "    arr= arr.round(decimals=3)\n",
    "    #df['url_vect'] = pd.DataFrame(data=arr,columns=['url_vect'])\n",
    "    return arr"
   ]
  },
  {
   "cell_type": "code",
   "execution_count": 4,
   "id": "c9dad583",
   "metadata": {},
   "outputs": [],
   "source": [
    "def preprocess(df):\n",
    "    start_time= time.time()\n",
    "\n",
    "    # ------------ Address outliers via clamp transformation --------------\n",
    "    url_len_clamped = df['url_len'].copy()\n",
    "    url_len_clamped = find_outliers_IQR(url_len_clamped)\n",
    "    js_len_clamped = df['js_len'].copy()\n",
    "    js_len_clamped = find_outliers_IQR(js_len_clamped)\n",
    "    js_obf_len_clamped = df['js_obf_len'].copy()\n",
    "    js_obf_len_clamped = find_outliers_IQR(js_obf_len_clamped)\n",
    "    \n",
    "    df['url_len'] = url_len_clamped\n",
    "    df['js_len'] = js_len_clamped\n",
    "    df['js_obf_len'] = js_obf_len_clamped\n",
    "    \n",
    "    # --------------- Scaling numerical features ---------------\n",
    "    from sklearn.preprocessing import MinMaxScaler\n",
    "    scaler = MinMaxScaler()\n",
    "    \n",
    "    url_len_scaled = scaler.fit_transform(df[['url_len']])\n",
    "    df['url_len_scaled'] = url_len_scaled\n",
    "\n",
    "    js_len_scaled = scaler.fit_transform(df[['js_len']])\n",
    "    df['js_len_scaled'] = js_len_scaled\n",
    "\n",
    "    js_obf_len_scaled = scaler.fit_transform(df[['js_obf_len']])\n",
    "    df['js_obf_len_scaled'] = js_obf_len_scaled\n",
    "    \n",
    "    \n",
    "    # ---------------- Binary Encoding for Categorical Attributes ------------------\n",
    "    identifyWho_Is = {'incomplete': 0, 'complete': 1}\n",
    "    df['who_is'] = [identifyWho_Is[item] for item in df.who_is]\n",
    "    \n",
    "    identifyHTTPS = {'no': 0, 'yes': 1}\n",
    "    df.https = [identifyHTTPS[item] for item in df.https]\n",
    "    \n",
    "    # --------------- Handling TLD Column -------------------------\n",
    "    gov_binary_val = make_gov_column(df['tld'])\n",
    "    df.insert(2, column = \"is_gov_tld\", value=gov_binary_val)\n",
    "    \n",
    "    \n",
    "    # ---------------- Probabilty based profanity score on text columnsk ------------------\n",
    "    from profanity_check import predict_prob, predict\n",
    "    profanity_score_prob = predict_prob(np.array(df['content']))\n",
    "    df.insert(5, column='profanity_score_prob', value=profanity_score_prob)\n",
    "    \n",
    "    \n",
    "    # ------------------ Cleaning URL's --------------------\n",
    "    url_cleaned = df['url'].map(clean_url)\n",
    "    df.insert(1, column='url_cleaned', value=url_cleaned)\n",
    "    url_vect = predict_profanity(df['url_cleaned'])\n",
    "    df.insert(2, column='url_vect', value=url_vect)\n",
    "    \n",
    "    # ---------------------- Preprocess labels into binary values ----------------------\n",
    "    identifyLabels = {'bad': 1, 'good': 0}\n",
    "    df['label'] = [identifyLabels[item] for item  in df.label]\n",
    "    \n",
    "    # ------------ Drop Unecessary Columns, or Original Columns after preprocessing that still remain -------------\n",
    "    df.drop(['geo_loc', 'ip_add', 'url_len', 'js_len', 'js_obf_len', 'tld', 'content', 'url', 'url_cleaned'], axis=1, inplace=True)\n",
    "    \n",
    "    # ---------------------- Rearrange Columns ----------------------\n",
    "    titles = ['url_vect', 'is_gov_tld', 'who_is', 'https', 'profanity_score_prob', \n",
    "              'url_len_scaled', 'js_len_scaled','js_obf_len_scaled',\n",
    "              'label'] # Same order as our training data\n",
    "\n",
    "    df = df[titles] \n",
    "    \n",
    "    print(\"***Elapsed time preprocess --- %s seconds ---***\" % (time.time() - start_time))\n",
    "    return df"
   ]
  },
  {
   "cell_type": "code",
   "execution_count": 5,
   "id": "7f50d9b6",
   "metadata": {},
   "outputs": [],
   "source": [
    "# Add values on top of bars\n",
    "def add_labels(rects, ax):\n",
    "    for rect in rects:\n",
    "        height = rect.get_height()\n",
    "        ax.annotate(f'{height:.2f}', xy=(rect.get_x() + rect.get_width() / 2, height),\n",
    "                    xytext=(0, 3), textcoords='offset points', ha='center', va='bottom', rotation=90)"
   ]
  },
  {
   "cell_type": "code",
   "execution_count": 6,
   "id": "b910f5aa",
   "metadata": {},
   "outputs": [],
   "source": [
    "def draw_conf_matrix(actual, predicted, title):\n",
    "    plt.figure(figsize = (7,5))\n",
    "    plt.title(title)\n",
    "    plt.ylabel('True label')\n",
    "    plt.xlabel('Predicted label')\n",
    "\n",
    "    cf_matrix = confusion_matrix(actual, predicted)\n",
    "    ht_mp = sns.heatmap(cf_matrix, annot=True, fmt='g')\n",
    "    \n",
    "    # **NOTE: In this case: Legitimate (NOT Malicious) is our NEGATIVE class, while Malicious is our POSITIVE class**\n",
    "    ht_mp.set(xlabel='Predicted', ylabel='Actual', \n",
    "              xticklabels=['Not Malicious (Negative)', 'Malicious (Positive)'], \n",
    "              yticklabels=['Not Malicious (Negative)', 'Malicious (Positive)'])"
   ]
  },
  {
   "cell_type": "markdown",
   "id": "8ba47e83",
   "metadata": {},
   "source": [
    "## <font style=\"color:#008fff;\">Loading Fine-Tuned Models</font>"
   ]
  },
  {
   "cell_type": "markdown",
   "id": "d9ef4e9a",
   "metadata": {},
   "source": [
    "### Fine-tuned moedls based on full feature sets:"
   ]
  },
  {
   "cell_type": "code",
   "execution_count": 7,
   "id": "e72889dc",
   "metadata": {},
   "outputs": [],
   "source": [
    "# ---------------------- KNN ----------------------\n",
    "knn_full_filename = 'Models/Optimized/knn_full_features_opt.sav' # Full feature set\n",
    "knn_full = pickle.load(open(knn_full_filename, 'rb'))\n",
    "\n",
    "# ---------------------- Naive Bayes ----------------------\n",
    "gnb_full_filename = 'Models/Optimized/gnb_full_features_opt.sav'\n",
    "gnb_full = pickle.load(open(gnb_full_filename, 'rb'))\n",
    "\n",
    "# ---------------------- Decision Trees ----------------------\n",
    "dc_full_filename = 'Models/Optimized/dc_full_features_opt.sav'\n",
    "dc_full = pickle.load(open(dc_full_filename, 'rb'))\n",
    "\n",
    "# ---------------------- Random Forest ----------------------\n",
    "rfc_full_filename = 'Models/Optimized/rfc_full_features_opt.sav'\n",
    "rfc_full = pickle.load(open(rfc_full_filename, 'rb'))"
   ]
  },
  {
   "cell_type": "markdown",
   "id": "c83be0da",
   "metadata": {},
   "source": [
    "### Fine-tuned models based on reduced feature sets:"
   ]
  },
  {
   "cell_type": "code",
   "execution_count": 8,
   "id": "43d3e73a",
   "metadata": {},
   "outputs": [],
   "source": [
    "knn_reduced_filename = 'Models/Optimized/knn_reduced_features_opt.sav' # Reduced feature set\n",
    "knn_reduced = pickle.load(open(knn_reduced_filename, 'rb'))\n",
    "\n",
    "gnb_reduced_filename = 'Models/Optimized/gnb_reduced_features_opt.sav'\n",
    "gnb_reduced = pickle.load(open(gnb_reduced_filename, 'rb'))\n",
    "\n",
    "dc_reduced_filename = 'Models/Optimized/dc_reduced_features_opt.sav'\n",
    "dc_reduced = pickle.load(open(dc_reduced_filename, 'rb'))\n",
    "\n",
    "rfc_reduced_filename = 'Models/Optimized/rfc_reduced_features_opt.sav'\n",
    "rfc_reduced = pickle.load(open(rfc_reduced_filename, 'rb'))"
   ]
  },
  {
   "cell_type": "markdown",
   "id": "5ca76a6c",
   "metadata": {},
   "source": [
    "## <font style=\"color:#008fff;\">Preprocessed Data</font>"
   ]
  },
  {
   "cell_type": "code",
   "execution_count": 9,
   "id": "e1e6317e",
   "metadata": {},
   "outputs": [],
   "source": [
    "# Splitting our test dataset into X and y\n",
    "X_train = pd.read_csv('Dataset/preprocessed_training_data.csv').drop('label', axis=1)\n",
    "y_train = pd.read_csv('Dataset/preprocessed_training_data.csv')['label']\n",
    "\n",
    "X_test = pd.read_csv('Dataset/preprocessed_testing_data.csv').drop('label', axis=1)\n",
    "y_test = pd.read_csv('Dataset/preprocessed_testing_data.csv')['label']"
   ]
  },
  {
   "cell_type": "markdown",
   "id": "e791132f",
   "metadata": {},
   "source": [
    "## <font style=\"color:#008fff;\">Using All 4 Models to Vote</font>"
   ]
  },
  {
   "cell_type": "markdown",
   "id": "9b3135db",
   "metadata": {},
   "source": [
    "### In this section, we will try to combine all 4 models: KNN, Naive Bayes, Decision Trees, and Random Forests to do a majority vote. We will have one trial all models trained on full feature sets to take a vote per data point, as well as another trial where all models trained on reduced feature sets will also take a vote. We will then compare results from both trials"
   ]
  },
  {
   "cell_type": "markdown",
   "id": "9747aa3b",
   "metadata": {},
   "source": [
    "**Models Trained on Reduced Feature Sets:**"
   ]
  },
  {
   "cell_type": "code",
   "execution_count": 10,
   "id": "20ab3b6e",
   "metadata": {},
   "outputs": [
    {
     "name": "stdout",
     "output_type": "stream",
     "text": [
      "***Elapsed time to make predictions --- 111.01114654541016 seconds ---***\n"
     ]
    }
   ],
   "source": [
    "# Function to have all 4 models make a majority vote\n",
    "def vote_predictions(row):\n",
    "    all_cols = ['url_vect', 'is_gov_tld', 'who_is', 'https', 'profanity_score_prob', 'url_len_scaled', 'js_len_scaled', 'js_obf_len_scaled']\n",
    "    X = [row.loc[all_cols]]\n",
    "\n",
    "    # Each models predicts\n",
    "    preds = []\n",
    "    preds.append(knn_full.predict(X)[0])\n",
    "    preds.append(gnb_full.predict(X)[0])\n",
    "    preds.append(dc_full.predict(X)[0])\n",
    "    preds.append(rfc_full.predict(X)[0])\n",
    "    \n",
    "    vote_counts = collections.Counter(preds)\n",
    "    \n",
    "    if vote_counts[0] > vote_counts[1]:\n",
    "        return 0\n",
    "    elif vote_counts[0] < vote_counts[1]:\n",
    "        return 1\n",
    "    else: # If tie, randomly choose either one\n",
    "        return random.choice([0, 1])\n",
    "\n",
    "\n",
    "start_time = time.time()\n",
    "\n",
    "predictions_full = []\n",
    "for index, row in X_test.iterrows():\n",
    "    # Take majority vote\n",
    "    vote = vote_predictions(row)\n",
    "    predictions_full.append(vote)\n",
    "    \n",
    "    \n",
    "print(\"***Elapsed time to make predictions --- %s seconds ---***\" % (time.time() - start_time))"
   ]
  },
  {
   "cell_type": "markdown",
   "id": "a80c2ba5",
   "metadata": {},
   "source": [
    "**Models Trained on Reduced Feature Sets:**"
   ]
  },
  {
   "cell_type": "code",
   "execution_count": 11,
   "id": "452733fc",
   "metadata": {},
   "outputs": [
    {
     "name": "stdout",
     "output_type": "stream",
     "text": [
      "***Elapsed time to make predictions --- 96.16473531723022 seconds ---***\n"
     ]
    }
   ],
   "source": [
    "# Function to have all 4 models make a majority vote\n",
    "def vote_predictions(row):\n",
    "    reduced_features_1 = ['who_is', 'https', 'profanity_score_prob', 'js_len_scaled', 'js_obf_len_scaled']\n",
    "    knn_input = [row.loc[reduced_features_1]]\n",
    "    \n",
    "    reduced_features_2 = ['url_vect', 'is_gov_tld', 'js_obf_len_scaled']\n",
    "    gnb_dc_rfc_input = [row.loc[reduced_features_2]]\n",
    "    \n",
    "    # Each models predicts\n",
    "    preds = []\n",
    "    preds.append(knn_reduced.predict(knn_input)[0])\n",
    "    preds.append(gnb_reduced.predict(gnb_dc_rfc_input)[0])\n",
    "    preds.append(dc_reduced.predict(gnb_dc_rfc_input)[0])\n",
    "    preds.append(rfc_reduced.predict(gnb_dc_rfc_input)[0])\n",
    "    \n",
    "    vote_counts = collections.Counter(preds)\n",
    "    \n",
    "    if vote_counts[0] > vote_counts[1]:\n",
    "        return 0\n",
    "    elif vote_counts[0] < vote_counts[1]:\n",
    "        return 1\n",
    "    else: # If tie, randomly choose either one\n",
    "        return random.choice([0, 1])\n",
    "\n",
    "\n",
    "start_time = time.time()\n",
    "\n",
    "predictions_reduced = []\n",
    "for index, row in X_test.iterrows():\n",
    "    # Take majority vote\n",
    "    vote = vote_predictions(row)\n",
    "    predictions_reduced.append(vote)\n",
    "    \n",
    "    \n",
    "print(\"***Elapsed time to make predictions --- %s seconds ---***\" % (time.time() - start_time))"
   ]
  },
  {
   "cell_type": "code",
   "execution_count": 12,
   "id": "29163ad0",
   "metadata": {},
   "outputs": [
    {
     "data": {
      "image/png": "[encoded data removed]",
      "text/plain": [
       "<Figure size 1000x600 with 1 Axes>"
      ]
     },
     "metadata": {},
     "output_type": "display_data"
    }
   ],
   "source": [
    "full_metrics = [\n",
    "    accuracy_score(y_true=y_test, y_pred=predictions_full),\n",
    "    precision_score(y_true=y_test, y_pred=predictions_full),\n",
    "    recall_score(y_true=y_test, y_pred=predictions_full),\n",
    "    f1_score(y_true=y_test, y_pred=predictions_full),\n",
    "    roc_auc_score(y_true=y_test, y_score=predictions_full)\n",
    "]\n",
    "\n",
    "reduced_metrics = [\n",
    "    accuracy_score(y_true=y_test, y_pred=predictions_reduced),\n",
    "    precision_score(y_true=y_test, y_pred=predictions_reduced),\n",
    "    recall_score(y_true=y_test, y_pred=predictions_reduced),\n",
    "    f1_score(y_true=y_test, y_pred=predictions_reduced),\n",
    "    roc_auc_score(y_true=y_test, y_score=predictions_reduced)\n",
    "]\n",
    "\n",
    "# create a list of model names\n",
    "labels = ['Accuracy', 'Precision', 'Recall', 'F1', 'AUC']\n",
    "\n",
    "# Plot\n",
    "fig, ax = plt.subplots(figsize=(10,6))\n",
    "x = np.arange(len(labels))\n",
    "width = 0.3\n",
    "\n",
    "rects1 = ax.bar(x - 1.5*width, full_metrics, width, label='Full Features')\n",
    "rects2 = ax.bar(x - 0.5*width, reduced_metrics, width, label='Reduced Features')\n",
    "\n",
    "add_labels(rects1, ax)\n",
    "add_labels(rects2, ax)\n",
    "\n",
    "# Formatting\n",
    "ax.set_ylabel('Score')\n",
    "ax.set_ylim([0, 1.1])\n",
    "ax.set_xticks(x)\n",
    "ax.set_xticklabels(labels)\n",
    "ax.legend(bbox_to_anchor=(1.05, 1), loc='upper left', borderaxespad=0.)\n",
    "\n",
    "plt.title('Hard Voting Performance: Full vs Redued Features')\n",
    "plt.show()"
   ]
  },
  {
   "cell_type": "markdown",
   "id": "82b3aa73",
   "metadata": {},
   "source": [
    "### What if we combined 4 models froll full and reduced feature sets to make a vote? 8 models total to make majority vote?"
   ]
  },
  {
   "cell_type": "code",
   "execution_count": 13,
   "id": "86ed675c",
   "metadata": {},
   "outputs": [
    {
     "name": "stdout",
     "output_type": "stream",
     "text": [
      "***Elapsed time to make predictions --- 177.90418887138367 seconds ---***\n"
     ]
    }
   ],
   "source": [
    "# Function to have all 8 models make a majority vote\n",
    "def vote_predictions(row):\n",
    "    preds = []\n",
    "    \n",
    "    all_cols = ['url_vect', 'is_gov_tld', 'who_is', 'https', 'profanity_score_prob', 'url_len_scaled', 'js_len_scaled', 'js_obf_len_scaled']\n",
    "    X = [row.loc[all_cols]]\n",
    "\n",
    "    # ------------- Models for FULL feature sets -------------\n",
    "    preds.append(knn_full.predict(X)[0])\n",
    "    preds.append(gnb_full.predict(X)[0])\n",
    "    preds.append(dc_full.predict(X)[0])\n",
    "    preds.append(rfc_full.predict(X)[0])\n",
    "    \n",
    "    # ------------- Models for REDUCED feature sets -------------\n",
    "    reduced_features_1 = ['who_is', 'https', 'profanity_score_prob', 'js_len_scaled', 'js_obf_len_scaled']\n",
    "    knn_input = [row.loc[reduced_features_1]]\n",
    "    reduced_features_2 = ['url_vect', 'is_gov_tld', 'js_obf_len_scaled']\n",
    "    gnb_dc_rfc_input = [row.loc[reduced_features_2]]\n",
    "    \n",
    "    preds.append(knn_reduced.predict(knn_input)[0])\n",
    "    preds.append(gnb_reduced.predict(gnb_dc_rfc_input)[0])\n",
    "    preds.append(dc_reduced.predict(gnb_dc_rfc_input)[0])\n",
    "    preds.append(rfc_reduced.predict(gnb_dc_rfc_input)[0])\n",
    "    \n",
    "    # Aggregating votes\n",
    "    vote_counts = collections.Counter(preds)\n",
    "    if vote_counts[0] > vote_counts[1]:\n",
    "        return 0\n",
    "    elif vote_counts[0] < vote_counts[1]:\n",
    "        return 1\n",
    "    else: # If tie, randomly choose either one\n",
    "        return random.choice([0, 1])\n",
    "\n",
    "\n",
    "start_time = time.time()\n",
    "\n",
    "final_predictions = []\n",
    "for index, row in X_test.iterrows():\n",
    "    # Take majority vote\n",
    "    vote = vote_predictions(row)\n",
    "    final_predictions.append(vote)\n",
    "    \n",
    "    \n",
    "print(\"***Elapsed time to make predictions --- %s seconds ---***\" % (time.time() - start_time))"
   ]
  },
  {
   "cell_type": "code",
   "execution_count": 14,
   "id": "6a7d9ede",
   "metadata": {},
   "outputs": [
    {
     "data": {
      "image/png": "[encoded data removed]",
      "text/plain": [
       "<Figure size 640x480 with 1 Axes>"
      ]
     },
     "metadata": {},
     "output_type": "display_data"
    }
   ],
   "source": [
    "# Example data\n",
    "metrics = ['Accuracy', 'Precision', 'Recall', 'F1', 'AUC']\n",
    "scores = [accuracy_score(y_true=y_test,y_pred=final_predictions), \n",
    "          precision_score(y_true=y_test,y_pred=final_predictions), \n",
    "          recall_score(y_true=y_test,y_pred=final_predictions), \n",
    "          f1_score(y_true=y_test,y_pred=final_predictions), \n",
    "          roc_auc_score(y_true=y_test,y_score=final_predictions)]\n",
    "\n",
    "# Create a bar plot\n",
    "fig, ax = plt.subplots()\n",
    "ax.bar(metrics, scores)\n",
    "\n",
    "# Add values above each bar\n",
    "for i, v in enumerate(scores):\n",
    "    ax.text(i, v, str(round(v, 2)), ha='center', va='bottom')\n",
    "\n",
    "# Set labels and title\n",
    "ax.set_xlabel('Metrics')\n",
    "ax.set_ylabel('Scores')\n",
    "ax.set_title('Model Performance: Hard Voting of 8 Classifier Ensemble')\n",
    "\n",
    "# Show the plot\n",
    "plt.show()"
   ]
  },
  {
   "cell_type": "markdown",
   "id": "06cef94a",
   "metadata": {},
   "source": [
    "Metrics seem to have great improvement"
   ]
  },
  {
   "cell_type": "code",
   "execution_count": 15,
   "id": "5b56ef5d",
   "metadata": {},
   "outputs": [
    {
     "data": {
      "image/png": "[encoded data removed]",
      "text/plain": [
       "<Figure size 700x500 with 2 Axes>"
      ]
     },
     "metadata": {},
     "output_type": "display_data"
    }
   ],
   "source": [
    "draw_conf_matrix(y_test, final_predictions, 'Confusion Matrix of Final Results')"
   ]
  }
 ],
 "metadata": {
  "kernelspec": {
   "display_name": "Capstone Kernel (myenv)",
   "language": "python",
   "name": "myenv"
  },
  "language_info": {
   "codemirror_mode": {
    "name": "ipython",
    "version": 3
   },
   "file_extension": ".py",
   "mimetype": "text/x-python",
   "name": "python",
   "nbconvert_exporter": "python",
   "pygments_lexer": "ipython3",
   "version": "3.12.0"
  }
 },
 "nbformat": 4,
 "nbformat_minor": 5
}
